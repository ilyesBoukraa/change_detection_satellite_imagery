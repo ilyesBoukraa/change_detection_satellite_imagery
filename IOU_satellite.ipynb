{
  "nbformat": 4,
  "nbformat_minor": 0,
  "metadata": {
    "colab": {
      "name": "IOU_satellite",
      "provenance": [],
      "collapsed_sections": [],
      "authorship_tag": "ABX9TyNeMeh3XzFSyatTLw7Pbc4r",
      "include_colab_link": true
    },
    "kernelspec": {
      "name": "python3",
      "display_name": "Python 3"
    },
    "language_info": {
      "name": "python"
    },
    "accelerator": "GPU"
  },
  "cells": [
    {
      "cell_type": "markdown",
      "metadata": {
        "id": "view-in-github",
        "colab_type": "text"
      },
      "source": [
        "<a href=\"https://colab.research.google.com/github/ilyesBoukraa/change_detection_satellite_imagery/blob/master/IOU_satellite.ipynb\" target=\"_parent\"><img src=\"https://colab.research.google.com/assets/colab-badge.svg\" alt=\"Open In Colab\"/></a>"
      ]
    },
    {
      "cell_type": "markdown",
      "metadata": {
        "id": "6vxyjS2rDFi4"
      },
      "source": [
        "# project created with the team : \n",
        "ilyes ali boukraa contact: boukraailyesali@gmail.com <br>\n",
        "Basma dokkar contact: basmadokk22@gmail.com <br>\n",
        "bouthayna meddour contact: mdbouthayna@gmail.com <br>\n",
        "farida derghal contact: derghal.farida@gmail.com "
      ]
    },
    {
      "cell_type": "markdown",
      "metadata": {
        "id": "M4gmFXRj9-Qb"
      },
      "source": [
        "# Install the missing package"
      ]
    },
    {
      "cell_type": "code",
      "metadata": {
        "id": "RPd4kTAS9t8r",
        "colab": {
          "base_uri": "https://localhost:8080/"
        },
        "outputId": "26004af8-752b-4463-e475-9e4ae73a0b6d"
      },
      "source": [
        "# note i need to install it everytime (need to find out why**)\n",
        "!pip install patchify"
      ],
      "execution_count": null,
      "outputs": [
        {
          "output_type": "stream",
          "text": [
            "Collecting patchify\n",
            "  Downloading https://files.pythonhosted.org/packages/00/ce/d76647d95aad98d5532b5d25801dedda788c6b5d4c7457d30ae3612132af/patchify-0.2.3-py3-none-any.whl\n",
            "Requirement already satisfied: numpy<2,>=1 in /usr/local/lib/python3.7/dist-packages (from patchify) (1.19.5)\n",
            "Installing collected packages: patchify\n",
            "Successfully installed patchify-0.2.3\n"
          ],
          "name": "stdout"
        }
      ]
    },
    {
      "cell_type": "code",
      "metadata": {
        "colab": {
          "base_uri": "https://localhost:8080/"
        },
        "id": "2x77__q1pvCe",
        "outputId": "8542164c-c94b-4902-cec1-7fc9bf9a2980"
      },
      "source": [
        "pip install --upgrade tensorflow-estimator==2.5.0"
      ],
      "execution_count": null,
      "outputs": [
        {
          "output_type": "stream",
          "text": [
            "Requirement already up-to-date: tensorflow-estimator==2.5.0 in /usr/local/lib/python3.7/dist-packages (2.5.0)\n"
          ],
          "name": "stdout"
        }
      ]
    },
    {
      "cell_type": "markdown",
      "metadata": {
        "id": "2OGnc9O1-CXk"
      },
      "source": [
        "#Imports"
      ]
    },
    {
      "cell_type": "code",
      "metadata": {
        "id": "QX9eSs1T9xZl"
      },
      "source": [
        "import numpy as np\n",
        "import matplotlib.pyplot as plt\n",
        "from patchify import patchify\n",
        "import tifffile as tiff\n",
        "import glob\n",
        "import os\n",
        "import cv2\n",
        "import tensorflow as tf\n",
        "from PIL import Image, ImageOps\n",
        "from google.colab import drive\n",
        "from matplotlib import pyplot as plt\n",
        "\n",
        "from keras.models import Model\n",
        "from keras.layers import Input, Conv2D, MaxPooling2D, UpSampling2D, concatenate, Conv2DTranspose, BatchNormalization, Dropout, Lambda\n",
        "from tensorflow.python.keras import regularizers\n",
        "from keras.metrics import MeanIoU\n",
        "\n",
        "from sklearn.model_selection import train_test_split\n",
        "\n",
        "from keras.preprocessing.image import ImageDataGenerator\n",
        "\n"
      ],
      "execution_count": null,
      "outputs": []
    },
    {
      "cell_type": "code",
      "metadata": {
        "colab": {
          "base_uri": "https://localhost:8080/"
        },
        "id": "cChOkHRZpyGe",
        "outputId": "cc9ed0da-042c-40f9-a64d-07e6a35d205f"
      },
      "source": [
        "phisycal_devices = tf.config.experimental.list_physical_devices('GPU')\n",
        "print(\"Num of GPUs available: \",len(phisycal_devices) )\n",
        "\n",
        "tf.config.experimental.set_memory_growth(phisycal_devices[0] , True)"
      ],
      "execution_count": null,
      "outputs": [
        {
          "output_type": "stream",
          "text": [
            "Num of GPUs available:  1\n"
          ],
          "name": "stdout"
        }
      ]
    },
    {
      "cell_type": "code",
      "metadata": {
        "id": "PaMz7A-epyDu",
        "colab": {
          "base_uri": "https://localhost:8080/"
        },
        "outputId": "434b8354-d6bb-4d42-b1a1-f5db624c277c"
      },
      "source": [
        "from tensorflow.python.client import device_lib\n",
        "device_lib.list_local_devices()"
      ],
      "execution_count": null,
      "outputs": [
        {
          "output_type": "execute_result",
          "data": {
            "text/plain": [
              "[name: \"/device:CPU:0\"\n",
              " device_type: \"CPU\"\n",
              " memory_limit: 268435456\n",
              " locality {\n",
              " }\n",
              " incarnation: 15408684605348637720, name: \"/device:GPU:0\"\n",
              " device_type: \"GPU\"\n",
              " memory_limit: 14509932544\n",
              " locality {\n",
              "   bus_id: 1\n",
              "   links {\n",
              "   }\n",
              " }\n",
              " incarnation: 17141775506564510972\n",
              " physical_device_desc: \"device: 0, name: Tesla T4, pci bus id: 0000:00:04.0, compute capability: 7.5\"]"
            ]
          },
          "metadata": {
            "tags": []
          },
          "execution_count": 8
        }
      ]
    },
    {
      "cell_type": "markdown",
      "metadata": {
        "id": "yJB80Y5A-Ne8"
      },
      "source": [
        "#Extract data drom google Drive"
      ]
    },
    {
      "cell_type": "code",
      "metadata": {
        "id": "9duA0n6w9xW1",
        "colab": {
          "base_uri": "https://localhost:8080/"
        },
        "outputId": "70c8a9e7-bc6c-4e59-a49e-6557d685f398"
      },
      "source": [
        "drive.mount('/content/drive',force_remount=True)"
      ],
      "execution_count": null,
      "outputs": [
        {
          "output_type": "stream",
          "text": [
            "Mounted at /content/drive\n"
          ],
          "name": "stdout"
        }
      ]
    },
    {
      "cell_type": "code",
      "metadata": {
        "id": "trrb4vVK9xSf",
        "colab": {
          "base_uri": "https://localhost:8080/"
        },
        "outputId": "d0f2eaca-478a-4c05-c21d-f996b8a4d00a"
      },
      "source": [
        "!ls /content/drive/MyDrive/Data01/"
      ],
      "execution_count": null,
      "outputs": [
        {
          "output_type": "stream",
          "text": [
            "aug_diff_image\taug_mask  hdf5\thdf5_mask\n"
          ],
          "name": "stdout"
        }
      ]
    },
    {
      "cell_type": "code",
      "metadata": {
        "id": "VFEi-XWZ9xLj",
        "colab": {
          "base_uri": "https://localhost:8080/"
        },
        "outputId": "9ecbbddd-9f1a-4e01-cb45-1f0fa148365a"
      },
      "source": [
        "%%time\n",
        "train_images_diff = []\n",
        "i=0\n",
        "for directory_path in glob.glob(\"/content/drive/MyDrive/Data01/aug_diff_image\"):   \n",
        "    for img_path1 in sorted(glob.glob(os.path.join(directory_path, \"*.tiff\"))):\n",
        "        imgs1 = cv2.imread(img_path1, cv2.IMREAD_COLOR)\n",
        "        imgs1=imgs1.astype('float32')\n",
        "        imgs1=imgs1/255.0\n",
        "        train_images_diff.append(imgs1)\n",
        "        i += 1\n",
        "        if i == 775:\n",
        "            break \n",
        "#Convert list to array for machine learning processing        \n",
        "X1 = np.array(train_images_diff)\n",
        "X1 = np.expand_dims(X1, -1)\n",
        "train_images_diff = 0  \n",
        "#print(X1)"
      ],
      "execution_count": null,
      "outputs": [
        {
          "output_type": "stream",
          "text": [
            "CPU times: user 1.38 s, sys: 1.37 s, total: 2.75 s\n",
            "Wall time: 4min 18s\n"
          ],
          "name": "stdout"
        }
      ]
    },
    {
      "cell_type": "code",
      "metadata": {
        "id": "LJ7R7FM73B5K"
      },
      "source": [
        ""
      ],
      "execution_count": null,
      "outputs": []
    },
    {
      "cell_type": "code",
      "metadata": {
        "id": "C3SEINT89xIy",
        "colab": {
          "base_uri": "https://localhost:8080/"
        },
        "outputId": "ee5cc6ee-71c9-454a-908a-7d311eacc518"
      },
      "source": [
        "%%time\n",
        "train_mask = []\n",
        "J=0\n",
        "for directory_path in glob.glob(\"/content/drive/MyDrive/Data01/aug_mask\"):\n",
        "    for mask_path in sorted(glob.glob(os.path.join(directory_path, \"*.tiff\"))):\n",
        "        #print(mask_path)\n",
        "        mask = cv2.imread(mask_path)\n",
        "        mask_gray = cv2.cvtColor(mask, cv2.COLOR_BGR2GRAY)\n",
        "        mask_gray=mask_gray.astype('float32')\n",
        "        mask_gray=mask_gray/255.0\n",
        "        # print(mask_gray.shape) \n",
        "        # plt.imshow(mask_gray)       \n",
        "        train_mask.append(mask_gray)\n",
        "        J += 1\n",
        "        if J == 775:\n",
        "            break \n",
        "#Convert list to array for machine learning processing  \n",
        "\n",
        "Y= np.array(train_mask)\n",
        "train_mask= 0\n",
        "#Y =Y.reshape((6000,256,256,1))\n",
        "Y = np.expand_dims(Y, -1)\n",
        "print(Y.shape)"
      ],
      "execution_count": null,
      "outputs": [
        {
          "output_type": "stream",
          "text": [
            "(775, 256, 256, 1)\n",
            "CPU times: user 452 ms, sys: 246 ms, total: 697 ms\n",
            "Wall time: 1.88 s\n"
          ],
          "name": "stdout"
        }
      ]
    },
    {
      "cell_type": "markdown",
      "metadata": {
        "id": "hiXbL9B0_ItU"
      },
      "source": [
        "#Spliting the data"
      ]
    },
    {
      "cell_type": "code",
      "metadata": {
        "id": "14VnVSII-LaZ",
        "colab": {
          "base_uri": "https://localhost:8080/"
        },
        "outputId": "4c1eaba0-a464-424d-af38-8af213d961ee"
      },
      "source": [
        "print(\"Pixel values in the mask are: \", np.unique(Y))"
      ],
      "execution_count": null,
      "outputs": [
        {
          "output_type": "stream",
          "text": [
            "Pixel values in the mask are:  [0.         0.00392157 0.00784314 0.01176471 0.01568628 0.01960784\n",
            " 0.02352941 0.02745098 0.03137255 0.03529412 0.03921569 0.04313726\n",
            " 0.04705882 0.05098039 0.05490196 0.05882353 0.0627451  0.06666667\n",
            " 0.07058824 0.07450981 0.07843138 0.08235294 0.08627451 0.09019608\n",
            " 0.09411765 0.09803922 0.10196079 0.10588235 0.10980392 0.11372549\n",
            " 0.11764706 0.12156863 0.1254902  0.12941177 0.13333334 0.13725491\n",
            " 0.14117648 0.14509805 0.14901961 0.15294118 0.15686275 0.16078432\n",
            " 0.16470589 0.16862746 0.17254902 0.1764706  0.18039216 0.18431373\n",
            " 0.1882353  0.19215687 0.19607843 0.2        0.20392157 0.20784314\n",
            " 0.21176471 0.21568628 0.21960784 0.22352941 0.22745098 0.23137255\n",
            " 0.23529412 0.23921569 0.24313726 0.24705882 0.2509804  0.25490198\n",
            " 0.25882354 0.2627451  0.26666668 0.27058825 0.27450982 0.2784314\n",
            " 0.28235295 0.28627452 0.2901961  0.29411766 0.29803923 0.3019608\n",
            " 0.30588236 0.30980393 0.3137255  0.31764707 0.32156864 0.3254902\n",
            " 0.32941177 0.33333334 0.3372549  0.34117648 0.34509805 0.34901962\n",
            " 0.3529412  0.35686275 0.36078432 0.3647059  0.36862746 0.37254903\n",
            " 0.3764706  0.38039216 0.38431373 0.3882353  0.39215687 0.39607844\n",
            " 0.4        0.40392157 0.40784314 0.4117647  0.41568628 0.41960785\n",
            " 0.42352942 0.42745098 0.43137255 0.43529412 0.4392157  0.44313726\n",
            " 0.44705883 0.4509804  0.45490196 0.45882353 0.4627451  0.46666667\n",
            " 0.47058824 0.4745098  0.47843137 0.48235294 0.4862745  0.49019608\n",
            " 0.49411765 0.49803922 0.5019608  0.5058824  0.50980395 0.5137255\n",
            " 0.5176471  0.52156866 0.5254902  0.5294118  0.53333336 0.5372549\n",
            " 0.5411765  0.54509807 0.54901963 0.5529412  0.5568628  0.56078434\n",
            " 0.5647059  0.5686275  0.57254905 0.5764706  0.5803922  0.58431375\n",
            " 0.5882353  0.5921569  0.59607846 0.6        0.6039216  0.60784316\n",
            " 0.6117647  0.6156863  0.61960787 0.62352943 0.627451   0.6313726\n",
            " 0.63529414 0.6392157  0.6431373  0.64705884 0.6509804  0.654902\n",
            " 0.65882355 0.6627451  0.6666667  0.67058825 0.6745098  0.6784314\n",
            " 0.68235296 0.6862745  0.6901961  0.69411767 0.69803923 0.7019608\n",
            " 0.7058824  0.70980394 0.7137255  0.7176471  0.72156864 0.7254902\n",
            " 0.7294118  0.73333335 0.7372549  0.7411765  0.74509805 0.7490196\n",
            " 0.7529412  0.75686276 0.7607843  0.7647059  0.76862746 0.77254903\n",
            " 0.7764706  0.78039217 0.78431374 0.7882353  0.7921569  0.79607844\n",
            " 0.8        0.8039216  0.80784315 0.8117647  0.8156863  0.81960785\n",
            " 0.8235294  0.827451   0.83137256 0.8352941  0.8392157  0.84313726\n",
            " 0.84705883 0.8509804  0.85490197 0.85882354 0.8627451  0.8666667\n",
            " 0.87058824 0.8745098  0.8784314  0.88235295 0.8862745  0.8901961\n",
            " 0.89411765 0.8980392  0.9019608  0.90588236 0.9098039  0.9137255\n",
            " 0.91764706 0.92156863 0.9254902  0.92941177 0.93333334 0.9372549\n",
            " 0.9411765  0.94509804 0.9490196  0.9529412  0.95686275 0.9607843\n",
            " 0.9647059  0.96862745 0.972549   0.9764706  0.98039216 0.9843137\n",
            " 0.9882353  0.99215686 0.99607843 1.        ]\n"
          ],
          "name": "stdout"
        }
      ]
    },
    {
      "cell_type": "code",
      "metadata": {
        "id": "9Fl8Qw05-ZAe",
        "colab": {
          "base_uri": "https://localhost:8080/"
        },
        "outputId": "4f1af528-c7ef-4e30-da53-f40717241dbc"
      },
      "source": [
        "# real one\n",
        "X_train, X_test, y_train, y_test = train_test_split(X1, Y, test_size = 0.25, random_state = 0)\n",
        "print(X_train.shape)\n",
        "print(X_test.shape)"
      ],
      "execution_count": null,
      "outputs": [
        {
          "output_type": "stream",
          "text": [
            "(581, 256, 256, 3, 1)\n",
            "(194, 256, 256, 3, 1)\n"
          ],
          "name": "stdout"
        }
      ]
    },
    {
      "cell_type": "code",
      "metadata": {
        "id": "pq6V0zRp-Y9q",
        "colab": {
          "base_uri": "https://localhost:8080/"
        },
        "outputId": "c6c898a7-5827-4c71-ca2f-45434b55e5af"
      },
      "source": [
        ""
      ],
      "execution_count": null,
      "outputs": [
        {
          "output_type": "stream",
          "text": [
            "(581, 256, 256, 3, 1)\n",
            "(194, 256, 256, 3, 1)\n"
          ],
          "name": "stdout"
        }
      ]
    },
    {
      "cell_type": "markdown",
      "metadata": {
        "id": "v7C34bnR_sV8"
      },
      "source": [
        "# Generate more data for better results"
      ]
    },
    {
      "cell_type": "code",
      "metadata": {
        "id": "sbVJcskF-LU5"
      },
      "source": [
        "%%time\n",
        "seed=24\n",
        "img_data_gen_args = dict(rotation_range=90,\n",
        "                     width_shift_range=0.3,\n",
        "                     height_shift_range=0.3,\n",
        "                     horizontal_flip=True,\n",
        "                     vertical_flip=True,\n",
        "                     fill_mode='reflect')\n",
        "\n",
        "mask_data_gen_args = dict(rotation_range=90,\n",
        "                     width_shift_range=0.3,\n",
        "                     height_shift_range=0.3,\n",
        "                     horizontal_flip=True,\n",
        "                     vertical_flip=True,\n",
        "                     fill_mode='reflect',\n",
        "                     preprocessing_function = lambda x: np.where(x>0, 1, 0).astype(x.dtype)) #Binarize the output again. \n",
        "                     \n",
        "X_train=X_train.reshape(581, 256, 256, 3)\n",
        "X_test=X_test.reshape( 194, 256, 256, 3)\n",
        "image_data_generator = ImageDataGenerator(**img_data_gen_args)\n",
        "image_data_generator.fit(X_train, augment=True, seed=seed)\n",
        "image_generator = image_data_generator.flow(X_train, seed=seed)\n",
        "valid_img_generator = image_data_generator.flow(X_test, seed=seed)"
      ],
      "execution_count": null,
      "outputs": []
    },
    {
      "cell_type": "code",
      "metadata": {
        "id": "G6YpA3Dj-LTe",
        "colab": {
          "base_uri": "https://localhost:8080/"
        },
        "outputId": "4cef7b89-62f2-4a46-cda2-d3009b540edd"
      },
      "source": [
        "%%time\n",
        "mask_data_generator = ImageDataGenerator(**mask_data_gen_args)\n",
        "mask_data_generator.fit(y_train, augment=True, seed=seed)\n",
        "mask_generator = mask_data_generator.flow(y_train, seed=seed)\n",
        "valid_mask_generator = mask_data_generator.flow(y_test, seed=seed)"
      ],
      "execution_count": null,
      "outputs": [
        {
          "output_type": "stream",
          "text": [
            "CPU times: user 1.98 s, sys: 2.11 ms, total: 1.99 s\n",
            "Wall time: 1.98 s\n"
          ],
          "name": "stdout"
        }
      ]
    },
    {
      "cell_type": "code",
      "metadata": {
        "id": "RT0LjRry_cCs"
      },
      "source": [
        "def my_image_mask_generator(image_generator, mask_generator):\n",
        "    train_generator = zip(image_generator, mask_generator)\n",
        "    for (img, mask) in train_generator:\n",
        "        yield (img, mask)\n",
        "\n",
        "my_generator = my_image_mask_generator(image_generator, mask_generator)\n",
        "\n",
        "validation_datagen = my_image_mask_generator(valid_img_generator, valid_mask_generator)"
      ],
      "execution_count": null,
      "outputs": []
    },
    {
      "cell_type": "code",
      "metadata": {
        "id": "1NHB0mzz_b-9",
        "colab": {
          "base_uri": "https://localhost:8080/",
          "height": 204
        },
        "outputId": "1f360132-ebb2-4a54-9c3f-65ae679d0275"
      },
      "source": [
        "x = image_generator.next()\n",
        "y = mask_generator.next()\n",
        "for i in range(0,1):\n",
        "    image = x[i]\n",
        "    mask = y[i]\n",
        "    plt.subplot(1,2,1)\n",
        "    plt.imshow(image[:,:,0], cmap='gray')\n",
        "    plt.subplot(1,2,2)\n",
        "    plt.imshow(mask[:,:,0])\n",
        "    plt.show()\n"
      ],
      "execution_count": null,
      "outputs": [
        {
          "output_type": "display_data",
          "data": {
            "image/png": "[encoded data removed]",
            "text/plain": [
              "<Figure size 432x288 with 2 Axes>"
            ]
          },
          "metadata": {
            "tags": [],
            "needs_background": "light"
          }
        }
      ]
    },
    {
      "cell_type": "markdown",
      "metadata": {
        "id": "bqwQPFtP_OpB"
      },
      "source": [
        "#Building the Model"
      ]
    },
    {
      "cell_type": "code",
      "metadata": {
        "id": "G-5I5vfU-Y6f"
      },
      "source": [
        "IMG_HEIGHT = X1.shape[1]\n",
        "IMG_WIDTH  = X1.shape[2]\n",
        "IMG_CHANNELS = X1.shape[3]"
      ],
      "execution_count": null,
      "outputs": []
    },
    {
      "cell_type": "code",
      "metadata": {
        "id": "nwrApGen-Y3t"
      },
      "source": [
        "\n",
        "from keras.models import Model\n",
        "from keras.layers import Input, Conv2D, MaxPooling2D, UpSampling2D, concatenate, Conv2DTranspose, BatchNormalization, Dropout, Lambda\n",
        "from keras.optimizers import RMSprop\n",
        "from keras.metrics import MeanIoU\n",
        "\n",
        "kernel_initializer =  'he_uniform'  # also try 'he_normal' but model not converging... \n",
        "\n",
        "\n",
        "################################################################\n",
        "def simple_unet_model(IMG_HEIGHT, IMG_WIDTH, IMG_CHANNELS):\n",
        "#Build the model\n",
        "    inputs = Input((IMG_HEIGHT, IMG_WIDTH, IMG_CHANNELS))\n",
        "    #s = Lambda(lambda x: x / 255)(inputs)   #No need for this if we normalize our inputs beforehand\n",
        "    s = inputs\n",
        "\n",
        "    #Contraction path\n",
        "    c1 = Conv2D(16, (3, 3), activation='relu', kernel_initializer=kernel_initializer, padding='same')(s)\n",
        "    c1 = Dropout(0.1)(c1)\n",
        "    c1 = Conv2D(16, (3, 3), activation='relu', kernel_initializer=kernel_initializer, padding='same')(c1)\n",
        "    p1 = MaxPooling2D((2, 2))(c1)\n",
        "    \n",
        "    c2 = Conv2D(32, (3, 3), activation='relu', kernel_initializer=kernel_initializer, padding='same')(p1)\n",
        "    c2 = Dropout(0.1)(c2)\n",
        "    c2 = Conv2D(32, (3, 3), activation='relu', kernel_initializer=kernel_initializer, padding='same')(c2)\n",
        "    p2 = MaxPooling2D((2, 2))(c2)\n",
        "     \n",
        "    c3 = Conv2D(64, (3, 3), activation='relu', kernel_initializer=kernel_initializer, padding='same')(p2)\n",
        "    c3 = Dropout(0.2)(c3)\n",
        "    c3 = Conv2D(64, (3, 3), activation='relu', kernel_initializer=kernel_initializer, padding='same')(c3)\n",
        "    p3 = MaxPooling2D((2, 2))(c3)\n",
        "     \n",
        "    c4 = Conv2D(128, (3, 3), activation='relu', kernel_initializer=kernel_initializer, padding='same')(p3)\n",
        "    c4 = Dropout(0.2)(c4)\n",
        "    c4 = Conv2D(128, (3, 3), activation='relu', kernel_initializer=kernel_initializer, padding='same')(c4)\n",
        "    p4 = MaxPooling2D(pool_size=(2, 2))(c4)\n",
        "     \n",
        "    c5 = Conv2D(256, (3, 3), activation='relu', kernel_initializer=kernel_initializer, padding='same')(p4)\n",
        "    c5 = Dropout(0.3)(c5)\n",
        "    c5 = Conv2D(256, (3, 3), activation='relu', kernel_initializer=kernel_initializer, padding='same')(c5)\n",
        "    \n",
        "    #Expansive path \n",
        "    u6 = Conv2DTranspose(128, (2, 2), strides=(2, 2), padding='same')(c5)\n",
        "    u6 = concatenate([u6, c4])\n",
        "    c6 = Conv2D(128, (3, 3), activation='relu', kernel_initializer=kernel_initializer, padding='same')(u6)\n",
        "    c6 = Dropout(0.2)(c6)\n",
        "    c6 = Conv2D(128, (3, 3), activation='relu', kernel_initializer=kernel_initializer, padding='same')(c6)\n",
        "     \n",
        "    u7 = Conv2DTranspose(64, (2, 2), strides=(2, 2), padding='same')(c6)\n",
        "    u7 = concatenate([u7, c3])\n",
        "    c7 = Conv2D(64, (3, 3), activation='relu', kernel_initializer=kernel_initializer, padding='same')(u7)\n",
        "    c7 = Dropout(0.2)(c7)\n",
        "    c7 = Conv2D(64, (3, 3), activation='relu', kernel_initializer=kernel_initializer, padding='same')(c7)\n",
        "     \n",
        "    u8 = Conv2DTranspose(32, (2, 2), strides=(2, 2), padding='same')(c7)\n",
        "    u8 = concatenate([u8, c2])\n",
        "    c8 = Conv2D(32, (3, 3), activation='relu', kernel_initializer=kernel_initializer, padding='same')(u8)\n",
        "    c8 = Dropout(0.1)(c8)\n",
        "    c8 = Conv2D(32, (3, 3), activation='relu', kernel_initializer=kernel_initializer, padding='same')(c8)\n",
        "     \n",
        "    u9 = Conv2DTranspose(16, (2, 2), strides=(2, 2), padding='same')(c8)\n",
        "    u9 = concatenate([u9, c1], axis=3)\n",
        "    c9 = Conv2D(16, (3, 3), activation='relu', kernel_initializer=kernel_initializer, padding='same')(u9)\n",
        "    c9 = Dropout(0.1)(c9)\n",
        "    c9 = Conv2D(16, (3, 3), activation='relu', kernel_initializer=kernel_initializer, padding='same')(c9)\n",
        "     \n",
        "    outputs = Conv2D(1, (1, 1), activation='sigmoid')(c9)\n",
        "     \n",
        "    model = Model(inputs=[inputs], outputs=[outputs])\n",
        "  # model.compile(optimizer=Adam(lr = 1e-3), loss='binary_crossentropy', metrics=['accuracy'])\n",
        "    model.compile(optimizer=RMSprop(lr = 1e-3), loss='binary_crossentropy', metrics=[MeanIoU(num_classes=2),'accuracy'])\n",
        "    model.summary()\n",
        "    \n",
        "    return model"
      ],
      "execution_count": null,
      "outputs": []
    },
    {
      "cell_type": "code",
      "metadata": {
        "id": "LkSvT0-T-LXE",
        "colab": {
          "base_uri": "https://localhost:8080/"
        },
        "outputId": "e945ab54-48e0-4c0b-fb56-60dbd86e6a96"
      },
      "source": [
        "def get_model():\n",
        "    return simple_unet_model(IMG_HEIGHT, IMG_WIDTH, IMG_CHANNELS)\n",
        "\n",
        "model = get_model()"
      ],
      "execution_count": null,
      "outputs": [
        {
          "output_type": "stream",
          "text": [
            "Model: \"model_10\"\n",
            "__________________________________________________________________________________________________\n",
            "Layer (type)                    Output Shape         Param #     Connected to                     \n",
            "==================================================================================================\n",
            "input_13 (InputLayer)           [(None, 256, 256, 3) 0                                            \n",
            "__________________________________________________________________________________________________\n",
            "conv2d_190 (Conv2D)             (None, 256, 256, 16) 448         input_13[0][0]                   \n",
            "__________________________________________________________________________________________________\n",
            "dropout_90 (Dropout)            (None, 256, 256, 16) 0           conv2d_190[0][0]                 \n",
            "__________________________________________________________________________________________________\n",
            "conv2d_191 (Conv2D)             (None, 256, 256, 16) 2320        dropout_90[0][0]                 \n",
            "__________________________________________________________________________________________________\n",
            "max_pooling2d_40 (MaxPooling2D) (None, 128, 128, 16) 0           conv2d_191[0][0]                 \n",
            "__________________________________________________________________________________________________\n",
            "conv2d_192 (Conv2D)             (None, 128, 128, 32) 4640        max_pooling2d_40[0][0]           \n",
            "__________________________________________________________________________________________________\n",
            "dropout_91 (Dropout)            (None, 128, 128, 32) 0           conv2d_192[0][0]                 \n",
            "__________________________________________________________________________________________________\n",
            "conv2d_193 (Conv2D)             (None, 128, 128, 32) 9248        dropout_91[0][0]                 \n",
            "__________________________________________________________________________________________________\n",
            "max_pooling2d_41 (MaxPooling2D) (None, 64, 64, 32)   0           conv2d_193[0][0]                 \n",
            "__________________________________________________________________________________________________\n",
            "conv2d_194 (Conv2D)             (None, 64, 64, 64)   18496       max_pooling2d_41[0][0]           \n",
            "__________________________________________________________________________________________________\n",
            "dropout_92 (Dropout)            (None, 64, 64, 64)   0           conv2d_194[0][0]                 \n",
            "__________________________________________________________________________________________________\n",
            "conv2d_195 (Conv2D)             (None, 64, 64, 64)   36928       dropout_92[0][0]                 \n",
            "__________________________________________________________________________________________________\n",
            "max_pooling2d_42 (MaxPooling2D) (None, 32, 32, 64)   0           conv2d_195[0][0]                 \n",
            "__________________________________________________________________________________________________\n",
            "conv2d_196 (Conv2D)             (None, 32, 32, 128)  73856       max_pooling2d_42[0][0]           \n",
            "__________________________________________________________________________________________________\n",
            "dropout_93 (Dropout)            (None, 32, 32, 128)  0           conv2d_196[0][0]                 \n",
            "__________________________________________________________________________________________________\n",
            "conv2d_197 (Conv2D)             (None, 32, 32, 128)  147584      dropout_93[0][0]                 \n",
            "__________________________________________________________________________________________________\n",
            "max_pooling2d_43 (MaxPooling2D) (None, 16, 16, 128)  0           conv2d_197[0][0]                 \n",
            "__________________________________________________________________________________________________\n",
            "conv2d_198 (Conv2D)             (None, 16, 16, 256)  295168      max_pooling2d_43[0][0]           \n",
            "__________________________________________________________________________________________________\n",
            "dropout_94 (Dropout)            (None, 16, 16, 256)  0           conv2d_198[0][0]                 \n",
            "__________________________________________________________________________________________________\n",
            "conv2d_199 (Conv2D)             (None, 16, 16, 256)  590080      dropout_94[0][0]                 \n",
            "__________________________________________________________________________________________________\n",
            "conv2d_transpose_40 (Conv2DTran (None, 32, 32, 128)  131200      conv2d_199[0][0]                 \n",
            "__________________________________________________________________________________________________\n",
            "concatenate_40 (Concatenate)    (None, 32, 32, 256)  0           conv2d_transpose_40[0][0]        \n",
            "                                                                 conv2d_197[0][0]                 \n",
            "__________________________________________________________________________________________________\n",
            "conv2d_200 (Conv2D)             (None, 32, 32, 128)  295040      concatenate_40[0][0]             \n",
            "__________________________________________________________________________________________________\n",
            "dropout_95 (Dropout)            (None, 32, 32, 128)  0           conv2d_200[0][0]                 \n",
            "__________________________________________________________________________________________________\n",
            "conv2d_201 (Conv2D)             (None, 32, 32, 128)  147584      dropout_95[0][0]                 \n",
            "__________________________________________________________________________________________________\n",
            "conv2d_transpose_41 (Conv2DTran (None, 64, 64, 64)   32832       conv2d_201[0][0]                 \n",
            "__________________________________________________________________________________________________\n",
            "concatenate_41 (Concatenate)    (None, 64, 64, 128)  0           conv2d_transpose_41[0][0]        \n",
            "                                                                 conv2d_195[0][0]                 \n",
            "__________________________________________________________________________________________________\n",
            "conv2d_202 (Conv2D)             (None, 64, 64, 64)   73792       concatenate_41[0][0]             \n",
            "__________________________________________________________________________________________________\n",
            "dropout_96 (Dropout)            (None, 64, 64, 64)   0           conv2d_202[0][0]                 \n",
            "__________________________________________________________________________________________________\n",
            "conv2d_203 (Conv2D)             (None, 64, 64, 64)   36928       dropout_96[0][0]                 \n",
            "__________________________________________________________________________________________________\n",
            "conv2d_transpose_42 (Conv2DTran (None, 128, 128, 32) 8224        conv2d_203[0][0]                 \n",
            "__________________________________________________________________________________________________\n",
            "concatenate_42 (Concatenate)    (None, 128, 128, 64) 0           conv2d_transpose_42[0][0]        \n",
            "                                                                 conv2d_193[0][0]                 \n",
            "__________________________________________________________________________________________________\n",
            "conv2d_204 (Conv2D)             (None, 128, 128, 32) 18464       concatenate_42[0][0]             \n",
            "__________________________________________________________________________________________________\n",
            "dropout_97 (Dropout)            (None, 128, 128, 32) 0           conv2d_204[0][0]                 \n",
            "__________________________________________________________________________________________________\n",
            "conv2d_205 (Conv2D)             (None, 128, 128, 32) 9248        dropout_97[0][0]                 \n",
            "__________________________________________________________________________________________________\n",
            "conv2d_transpose_43 (Conv2DTran (None, 256, 256, 16) 2064        conv2d_205[0][0]                 \n",
            "__________________________________________________________________________________________________\n",
            "concatenate_43 (Concatenate)    (None, 256, 256, 32) 0           conv2d_transpose_43[0][0]        \n",
            "                                                                 conv2d_191[0][0]                 \n",
            "__________________________________________________________________________________________________\n",
            "conv2d_206 (Conv2D)             (None, 256, 256, 16) 4624        concatenate_43[0][0]             \n",
            "__________________________________________________________________________________________________\n",
            "dropout_98 (Dropout)            (None, 256, 256, 16) 0           conv2d_206[0][0]                 \n",
            "__________________________________________________________________________________________________\n",
            "conv2d_207 (Conv2D)             (None, 256, 256, 16) 2320        dropout_98[0][0]                 \n",
            "__________________________________________________________________________________________________\n",
            "conv2d_208 (Conv2D)             (None, 256, 256, 1)  17          conv2d_207[0][0]                 \n",
            "==================================================================================================\n",
            "Total params: 1,941,105\n",
            "Trainable params: 1,941,105\n",
            "Non-trainable params: 0\n",
            "__________________________________________________________________________________________________\n"
          ],
          "name": "stdout"
        },
        {
          "output_type": "stream",
          "text": [
            "/usr/local/lib/python3.7/dist-packages/tensorflow/python/keras/optimizer_v2/optimizer_v2.py:375: UserWarning: The `lr` argument is deprecated, use `learning_rate` instead.\n",
            "  \"The `lr` argument is deprecated, use `learning_rate` instead.\")\n"
          ],
          "name": "stderr"
        }
      ]
    },
    {
      "cell_type": "markdown",
      "metadata": {
        "id": "DvGUnZeJ_yWV"
      },
      "source": [
        "#Training AKA Fitting "
      ]
    },
    {
      "cell_type": "code",
      "metadata": {
        "id": "X3ckGvda_b9C",
        "colab": {
          "base_uri": "https://localhost:8080/"
        },
        "outputId": "ab9f0109-0927-46d8-e229-af2580feddec"
      },
      "source": [
        "%%time\n",
        "batch_size = 64  \n",
        "steps_per_epoch = 3*(len(X_train))//batch_size\n",
        "         \n",
        "      \n",
        "history = model.fit(my_generator, validation_data=validation_datagen, steps_per_epoch=steps_per_epoch, validation_steps=steps_per_epoch, epochs= 50 , shuffle = True)\n"
      ],
      "execution_count": null,
      "outputs": [
        {
          "output_type": "stream",
          "text": [
            "Epoch 1/50\n",
            "27/27 [==============================] - 81s 1s/step - loss: 1.9327 - mean_io_u_10: 0.4773 - accuracy: 0.9268 - val_loss: 0.2933 - val_mean_io_u_10: 0.4783 - val_accuracy: 0.9566\n",
            "Epoch 2/50\n",
            "27/27 [==============================] - 27s 1s/step - loss: 0.2505 - mean_io_u_10: 0.4775 - accuracy: 0.9550 - val_loss: 0.2126 - val_mean_io_u_10: 0.4784 - val_accuracy: 0.9568\n",
            "Epoch 3/50\n",
            "27/27 [==============================] - 35s 1s/step - loss: 0.2220 - mean_io_u_10: 0.4786 - accuracy: 0.9571 - val_loss: 0.1835 - val_mean_io_u_10: 0.4781 - val_accuracy: 0.9563\n",
            "Epoch 4/50\n",
            "27/27 [==============================] - 35s 1s/step - loss: 0.2217 - mean_io_u_10: 0.4762 - accuracy: 0.9524 - val_loss: 0.1783 - val_mean_io_u_10: 0.4775 - val_accuracy: 0.9550\n",
            "Epoch 5/50\n",
            "27/27 [==============================] - 27s 1s/step - loss: 0.1878 - mean_io_u_10: 0.4777 - accuracy: 0.9555 - val_loss: 0.1706 - val_mean_io_u_10: 0.4781 - val_accuracy: 0.9563\n",
            "Epoch 6/50\n",
            "27/27 [==============================] - 27s 1s/step - loss: 0.1814 - mean_io_u_10: 0.4778 - accuracy: 0.9554 - val_loss: 0.1606 - val_mean_io_u_10: 0.4792 - val_accuracy: 0.9583\n",
            "Epoch 7/50\n",
            "27/27 [==============================] - 35s 1s/step - loss: 0.1727 - mean_io_u_10: 0.4781 - accuracy: 0.9561 - val_loss: 0.1794 - val_mean_io_u_10: 0.4775 - val_accuracy: 0.9490\n",
            "Epoch 8/50\n",
            "27/27 [==============================] - 27s 1s/step - loss: 0.1945 - mean_io_u_10: 0.4758 - accuracy: 0.9473 - val_loss: 0.1617 - val_mean_io_u_10: 0.4780 - val_accuracy: 0.9560\n",
            "Epoch 9/50\n",
            "27/27 [==============================] - 27s 1s/step - loss: 0.1838 - mean_io_u_10: 0.4756 - accuracy: 0.9512 - val_loss: 0.1612 - val_mean_io_u_10: 0.4790 - val_accuracy: 0.9579\n",
            "Epoch 10/50\n",
            "27/27 [==============================] - 26s 1s/step - loss: 0.1843 - mean_io_u_10: 0.4766 - accuracy: 0.9531 - val_loss: 0.1594 - val_mean_io_u_10: 0.4779 - val_accuracy: 0.9558\n",
            "Epoch 11/50\n",
            "27/27 [==============================] - 27s 1s/step - loss: 0.1753 - mean_io_u_10: 0.4766 - accuracy: 0.9532 - val_loss: 0.1646 - val_mean_io_u_10: 0.4781 - val_accuracy: 0.9561\n",
            "Epoch 12/50\n",
            "27/27 [==============================] - 27s 1s/step - loss: 0.1767 - mean_io_u_10: 0.4763 - accuracy: 0.9526 - val_loss: 0.1546 - val_mean_io_u_10: 0.4782 - val_accuracy: 0.9565\n",
            "Epoch 13/50\n",
            "27/27 [==============================] - 27s 1s/step - loss: 0.1692 - mean_io_u_10: 0.4772 - accuracy: 0.9543 - val_loss: 0.1557 - val_mean_io_u_10: 0.4779 - val_accuracy: 0.9558\n",
            "Epoch 14/50\n",
            "27/27 [==============================] - 26s 1s/step - loss: 0.1704 - mean_io_u_10: 0.4770 - accuracy: 0.9540 - val_loss: 0.1552 - val_mean_io_u_10: 0.4781 - val_accuracy: 0.9563\n",
            "Epoch 15/50\n",
            "27/27 [==============================] - 27s 1s/step - loss: 0.1595 - mean_io_u_10: 0.4783 - accuracy: 0.9566 - val_loss: 0.1558 - val_mean_io_u_10: 0.4787 - val_accuracy: 0.9574\n",
            "Epoch 16/50\n",
            "27/27 [==============================] - 35s 1s/step - loss: 0.1659 - mean_io_u_10: 0.4778 - accuracy: 0.9553 - val_loss: 0.1520 - val_mean_io_u_10: 0.4786 - val_accuracy: 0.9573\n",
            "Epoch 17/50\n",
            "27/27 [==============================] - 26s 1s/step - loss: 0.1689 - mean_io_u_10: 0.4769 - accuracy: 0.9537 - val_loss: 0.1808 - val_mean_io_u_10: 0.4781 - val_accuracy: 0.9562\n",
            "Epoch 18/50\n",
            "27/27 [==============================] - 35s 1s/step - loss: 0.1634 - mean_io_u_10: 0.4777 - accuracy: 0.9554 - val_loss: 0.1496 - val_mean_io_u_10: 0.4785 - val_accuracy: 0.9569\n",
            "Epoch 19/50\n",
            "27/27 [==============================] - 26s 1s/step - loss: 0.1601 - mean_io_u_10: 0.4781 - accuracy: 0.9561 - val_loss: 0.1465 - val_mean_io_u_10: 0.4782 - val_accuracy: 0.9564\n",
            "Epoch 20/50\n",
            "27/27 [==============================] - 35s 1s/step - loss: 0.1609 - mean_io_u_10: 0.4771 - accuracy: 0.9536 - val_loss: 0.1516 - val_mean_io_u_10: 0.4782 - val_accuracy: 0.9564\n",
            "Epoch 21/50\n",
            "27/27 [==============================] - 35s 1s/step - loss: 0.1670 - mean_io_u_10: 0.4767 - accuracy: 0.9535 - val_loss: 0.1501 - val_mean_io_u_10: 0.4784 - val_accuracy: 0.9568\n",
            "Epoch 22/50\n",
            "27/27 [==============================] - 26s 1000ms/step - loss: 0.1583 - mean_io_u_10: 0.4779 - accuracy: 0.9554 - val_loss: 0.1331 - val_mean_io_u_10: 0.4780 - val_accuracy: 0.9567\n",
            "Epoch 23/50\n",
            "27/27 [==============================] - 35s 1s/step - loss: 0.1622 - mean_io_u_10: 0.4767 - accuracy: 0.9527 - val_loss: 0.1404 - val_mean_io_u_10: 0.4782 - val_accuracy: 0.9568\n",
            "Epoch 24/50\n",
            "27/27 [==============================] - 26s 996ms/step - loss: 0.1520 - mean_io_u_10: 0.4780 - accuracy: 0.9564 - val_loss: 0.1346 - val_mean_io_u_10: 0.4781 - val_accuracy: 0.9567\n",
            "Epoch 25/50\n",
            "27/27 [==============================] - 27s 1s/step - loss: 0.1525 - mean_io_u_10: 0.4768 - accuracy: 0.9545 - val_loss: 0.1587 - val_mean_io_u_10: 0.4784 - val_accuracy: 0.9478\n",
            "Epoch 26/50\n",
            "27/27 [==============================] - 26s 1s/step - loss: 0.1873 - mean_io_u_10: 0.4760 - accuracy: 0.9434 - val_loss: 0.1339 - val_mean_io_u_10: 0.4786 - val_accuracy: 0.9585\n",
            "Epoch 27/50\n",
            "27/27 [==============================] - 27s 1s/step - loss: 0.1592 - mean_io_u_10: 0.4775 - accuracy: 0.9540 - val_loss: 0.1464 - val_mean_io_u_10: 0.4778 - val_accuracy: 0.9563\n",
            "Epoch 28/50\n",
            "27/27 [==============================] - 27s 1s/step - loss: 0.1524 - mean_io_u_10: 0.4776 - accuracy: 0.9550 - val_loss: 0.1272 - val_mean_io_u_10: 0.4781 - val_accuracy: 0.9610\n",
            "Epoch 29/50\n",
            "27/27 [==============================] - 35s 1s/step - loss: 0.1556 - mean_io_u_10: 0.4772 - accuracy: 0.9565 - val_loss: 0.1239 - val_mean_io_u_10: 0.4787 - val_accuracy: 0.9615\n",
            "Epoch 30/50\n",
            "27/27 [==============================] - 27s 1s/step - loss: 0.1450 - mean_io_u_10: 0.4779 - accuracy: 0.9582 - val_loss: 0.1135 - val_mean_io_u_10: 0.4787 - val_accuracy: 0.9661\n",
            "Epoch 31/50\n",
            "27/27 [==============================] - 26s 1s/step - loss: 0.1476 - mean_io_u_10: 0.4763 - accuracy: 0.9554 - val_loss: 0.1226 - val_mean_io_u_10: 0.4783 - val_accuracy: 0.9653\n",
            "Epoch 32/50\n",
            "27/27 [==============================] - 35s 1s/step - loss: 0.1334 - mean_io_u_10: 0.4780 - accuracy: 0.9611 - val_loss: 0.1188 - val_mean_io_u_10: 0.4788 - val_accuracy: 0.9643\n",
            "Epoch 33/50\n",
            "27/27 [==============================] - 27s 1s/step - loss: 0.1383 - mean_io_u_10: 0.4781 - accuracy: 0.9600 - val_loss: 0.1058 - val_mean_io_u_10: 0.4779 - val_accuracy: 0.9678\n",
            "Epoch 34/50\n",
            "27/27 [==============================] - 27s 1s/step - loss: 0.1171 - mean_io_u_10: 0.4802 - accuracy: 0.9641 - val_loss: 0.1322 - val_mean_io_u_10: 0.4783 - val_accuracy: 0.9603\n",
            "Epoch 35/50\n",
            "27/27 [==============================] - 35s 1s/step - loss: 0.1311 - mean_io_u_10: 0.4792 - accuracy: 0.9615 - val_loss: 0.1069 - val_mean_io_u_10: 0.4785 - val_accuracy: 0.9686\n",
            "Epoch 36/50\n",
            "27/27 [==============================] - 35s 1s/step - loss: 0.1463 - mean_io_u_10: 0.4763 - accuracy: 0.9576 - val_loss: 0.1052 - val_mean_io_u_10: 0.4784 - val_accuracy: 0.9679\n",
            "Epoch 37/50\n",
            "27/27 [==============================] - 27s 1s/step - loss: 0.1220 - mean_io_u_10: 0.4789 - accuracy: 0.9641 - val_loss: 0.1039 - val_mean_io_u_10: 0.4783 - val_accuracy: 0.9695\n",
            "Epoch 38/50\n",
            "27/27 [==============================] - 26s 999ms/step - loss: 0.1640 - mean_io_u_10: 0.4762 - accuracy: 0.9530 - val_loss: 0.1416 - val_mean_io_u_10: 0.4787 - val_accuracy: 0.9585\n",
            "Epoch 39/50\n",
            "27/27 [==============================] - 27s 1s/step - loss: 0.1197 - mean_io_u_10: 0.4776 - accuracy: 0.9649 - val_loss: 0.0994 - val_mean_io_u_10: 0.4833 - val_accuracy: 0.9699\n",
            "Epoch 40/50\n",
            "27/27 [==============================] - 27s 1s/step - loss: 0.1403 - mean_io_u_10: 0.4774 - accuracy: 0.9590 - val_loss: 0.1180 - val_mean_io_u_10: 0.4779 - val_accuracy: 0.9687\n",
            "Epoch 41/50\n",
            "27/27 [==============================] - 26s 1s/step - loss: 0.1394 - mean_io_u_10: 0.4781 - accuracy: 0.9608 - val_loss: 0.0993 - val_mean_io_u_10: 0.4787 - val_accuracy: 0.9700\n",
            "Epoch 42/50\n",
            "27/27 [==============================] - 35s 1s/step - loss: 0.1407 - mean_io_u_10: 0.4764 - accuracy: 0.9586 - val_loss: 0.0937 - val_mean_io_u_10: 0.4782 - val_accuracy: 0.9716\n",
            "Epoch 43/50\n",
            "27/27 [==============================] - 35s 1s/step - loss: 0.1511 - mean_io_u_10: 0.4755 - accuracy: 0.9577 - val_loss: 0.1022 - val_mean_io_u_10: 0.4788 - val_accuracy: 0.9688\n",
            "Epoch 44/50\n",
            "27/27 [==============================] - 27s 1s/step - loss: 0.1151 - mean_io_u_10: 0.4768 - accuracy: 0.9648 - val_loss: 0.0989 - val_mean_io_u_10: 0.4779 - val_accuracy: 0.9712\n",
            "Epoch 45/50\n",
            "27/27 [==============================] - 28s 1s/step - loss: 0.1479 - mean_io_u_10: 0.4773 - accuracy: 0.9583 - val_loss: 0.1181 - val_mean_io_u_10: 0.4796 - val_accuracy: 0.9604\n",
            "Epoch 46/50\n",
            "27/27 [==============================] - 36s 1s/step - loss: 0.1473 - mean_io_u_10: 0.4792 - accuracy: 0.9563 - val_loss: 0.1121 - val_mean_io_u_10: 0.4785 - val_accuracy: 0.9644\n",
            "Epoch 47/50\n",
            "27/27 [==============================] - 35s 1s/step - loss: 0.1124 - mean_io_u_10: 0.4803 - accuracy: 0.9653 - val_loss: 0.0889 - val_mean_io_u_10: 0.4779 - val_accuracy: 0.9727\n",
            "Epoch 48/50\n",
            "27/27 [==============================] - 27s 1s/step - loss: 0.1431 - mean_io_u_10: 0.4775 - accuracy: 0.9602 - val_loss: 0.1150 - val_mean_io_u_10: 0.4778 - val_accuracy: 0.9696\n",
            "Epoch 49/50\n",
            "27/27 [==============================] - 27s 1s/step - loss: 0.1222 - mean_io_u_10: 0.4770 - accuracy: 0.9649 - val_loss: 0.0916 - val_mean_io_u_10: 0.4782 - val_accuracy: 0.9722\n",
            "Epoch 50/50\n",
            "27/27 [==============================] - 26s 1s/step - loss: 0.1339 - mean_io_u_10: 0.4766 - accuracy: 0.9606 - val_loss: 0.0887 - val_mean_io_u_10: 0.4781 - val_accuracy: 0.9729\n",
            "CPU times: user 25min 16s, sys: 19.8 s, total: 25min 36s\n",
            "Wall time: 25min 23s\n"
          ],
          "name": "stdout"
        }
      ]
    },
    {
      "cell_type": "markdown",
      "metadata": {
        "id": "IoGKLhZO_4VK"
      },
      "source": [
        "# Graphs to evaluate"
      ]
    },
    {
      "cell_type": "code",
      "metadata": {
        "id": "HKW0_q4Y_b7p",
        "colab": {
          "base_uri": "https://localhost:8080/",
          "height": 573
        },
        "outputId": "1486d014-5a3d-4806-860d-2426f3358c6a"
      },
      "source": [
        "\n",
        "#plot the training and validation accuracy and loss at each epoch                    \n",
        "loss = history.history['loss']                \n",
        "val_loss = history.history['val_loss']           \n",
        "epochs = range(1, len(loss) + 1)              \n",
        "plt.plot(epochs, loss, 'y', label='Training loss')        \n",
        "plt.plot(epochs, val_loss, 'r', label='Validation loss')    \n",
        "plt.title('Training and validation loss')                    \n",
        "plt.xlabel('Epochs')\n",
        "plt.ylabel('Loss')\n",
        "plt.legend()\n",
        "plt.show()    \n",
        " \n",
        "acc = history.history['accuracy']\n",
        "val_acc = history.history['val_accuracy']\n",
        "\n",
        "plt.plot(epochs, acc, 'y', label='Training acc')\n",
        "plt.plot(epochs, val_acc, 'r', label='Validation acc')\n",
        "plt.title('Training and validation accuracy')\n",
        "plt.xlabel('Epochs')\n",
        "plt.ylabel('Accuracy')\n",
        "plt.legend()\n",
        "plt.show()"
      ],
      "execution_count": null,
      "outputs": [
        {
          "output_type": "display_data",
          "data": {
            "image/png": "[encoded data removed]",
            "text/plain": [
              "<Figure size 432x288 with 1 Axes>"
            ]
          },
          "metadata": {
            "tags": [],
            "needs_background": "light"
          }
        },
        {
          "output_type": "display_data",
          "data": {
            "image/png": "[encoded data removed]",
            "text/plain": [
              "<Figure size 432x288 with 1 Axes>"
            ]
          },
          "metadata": {
            "tags": [],
            "needs_background": "light"
          }
        }
      ]
    },
    {
      "cell_type": "code",
      "metadata": {
        "colab": {
          "base_uri": "https://localhost:8080/"
        },
        "id": "ZdMn1KK-UlKx",
        "outputId": "d1e1e3cc-0248-4bdc-ce93-37162856937e"
      },
      "source": [
        "%%time \n",
        "y_pred=model.predict(X_test)\n",
        "y_pred_thresholded = y_pred > 0.5\n",
        "#print(y_pred)\n",
        "print(y_pred_thresholded)"
      ],
      "execution_count": null,
      "outputs": [
        {
          "output_type": "stream",
          "text": [
            "[[[[False]\n",
            "   [False]\n",
            "   [False]\n",
            "   ...\n",
            "   [False]\n",
            "   [False]\n",
            "   [False]]\n",
            "\n",
            "  [[False]\n",
            "   [False]\n",
            "   [False]\n",
            "   ...\n",
            "   [False]\n",
            "   [False]\n",
            "   [False]]\n",
            "\n",
            "  [[False]\n",
            "   [False]\n",
            "   [False]\n",
            "   ...\n",
            "   [False]\n",
            "   [False]\n",
            "   [False]]\n",
            "\n",
            "  ...\n",
            "\n",
            "  [[False]\n",
            "   [False]\n",
            "   [False]\n",
            "   ...\n",
            "   [False]\n",
            "   [False]\n",
            "   [False]]\n",
            "\n",
            "  [[False]\n",
            "   [False]\n",
            "   [False]\n",
            "   ...\n",
            "   [False]\n",
            "   [False]\n",
            "   [False]]\n",
            "\n",
            "  [[False]\n",
            "   [False]\n",
            "   [False]\n",
            "   ...\n",
            "   [False]\n",
            "   [False]\n",
            "   [False]]]\n",
            "\n",
            "\n",
            " [[[False]\n",
            "   [False]\n",
            "   [False]\n",
            "   ...\n",
            "   [False]\n",
            "   [False]\n",
            "   [False]]\n",
            "\n",
            "  [[False]\n",
            "   [False]\n",
            "   [False]\n",
            "   ...\n",
            "   [False]\n",
            "   [False]\n",
            "   [False]]\n",
            "\n",
            "  [[False]\n",
            "   [False]\n",
            "   [False]\n",
            "   ...\n",
            "   [False]\n",
            "   [False]\n",
            "   [False]]\n",
            "\n",
            "  ...\n",
            "\n",
            "  [[False]\n",
            "   [False]\n",
            "   [False]\n",
            "   ...\n",
            "   [False]\n",
            "   [False]\n",
            "   [False]]\n",
            "\n",
            "  [[False]\n",
            "   [False]\n",
            "   [False]\n",
            "   ...\n",
            "   [False]\n",
            "   [False]\n",
            "   [False]]\n",
            "\n",
            "  [[False]\n",
            "   [False]\n",
            "   [False]\n",
            "   ...\n",
            "   [False]\n",
            "   [False]\n",
            "   [False]]]\n",
            "\n",
            "\n",
            " [[[False]\n",
            "   [False]\n",
            "   [False]\n",
            "   ...\n",
            "   [False]\n",
            "   [False]\n",
            "   [False]]\n",
            "\n",
            "  [[False]\n",
            "   [False]\n",
            "   [False]\n",
            "   ...\n",
            "   [False]\n",
            "   [False]\n",
            "   [False]]\n",
            "\n",
            "  [[False]\n",
            "   [False]\n",
            "   [False]\n",
            "   ...\n",
            "   [False]\n",
            "   [False]\n",
            "   [False]]\n",
            "\n",
            "  ...\n",
            "\n",
            "  [[False]\n",
            "   [False]\n",
            "   [False]\n",
            "   ...\n",
            "   [False]\n",
            "   [False]\n",
            "   [False]]\n",
            "\n",
            "  [[False]\n",
            "   [False]\n",
            "   [False]\n",
            "   ...\n",
            "   [False]\n",
            "   [False]\n",
            "   [False]]\n",
            "\n",
            "  [[False]\n",
            "   [False]\n",
            "   [False]\n",
            "   ...\n",
            "   [False]\n",
            "   [False]\n",
            "   [False]]]\n",
            "\n",
            "\n",
            " ...\n",
            "\n",
            "\n",
            " [[[False]\n",
            "   [False]\n",
            "   [False]\n",
            "   ...\n",
            "   [False]\n",
            "   [False]\n",
            "   [False]]\n",
            "\n",
            "  [[False]\n",
            "   [False]\n",
            "   [False]\n",
            "   ...\n",
            "   [False]\n",
            "   [False]\n",
            "   [False]]\n",
            "\n",
            "  [[False]\n",
            "   [False]\n",
            "   [False]\n",
            "   ...\n",
            "   [False]\n",
            "   [False]\n",
            "   [False]]\n",
            "\n",
            "  ...\n",
            "\n",
            "  [[False]\n",
            "   [False]\n",
            "   [False]\n",
            "   ...\n",
            "   [False]\n",
            "   [False]\n",
            "   [False]]\n",
            "\n",
            "  [[False]\n",
            "   [False]\n",
            "   [False]\n",
            "   ...\n",
            "   [False]\n",
            "   [False]\n",
            "   [False]]\n",
            "\n",
            "  [[False]\n",
            "   [False]\n",
            "   [False]\n",
            "   ...\n",
            "   [False]\n",
            "   [False]\n",
            "   [False]]]\n",
            "\n",
            "\n",
            " [[[False]\n",
            "   [False]\n",
            "   [False]\n",
            "   ...\n",
            "   [False]\n",
            "   [False]\n",
            "   [False]]\n",
            "\n",
            "  [[False]\n",
            "   [False]\n",
            "   [False]\n",
            "   ...\n",
            "   [False]\n",
            "   [False]\n",
            "   [False]]\n",
            "\n",
            "  [[False]\n",
            "   [False]\n",
            "   [False]\n",
            "   ...\n",
            "   [False]\n",
            "   [False]\n",
            "   [False]]\n",
            "\n",
            "  ...\n",
            "\n",
            "  [[False]\n",
            "   [False]\n",
            "   [False]\n",
            "   ...\n",
            "   [False]\n",
            "   [False]\n",
            "   [False]]\n",
            "\n",
            "  [[False]\n",
            "   [False]\n",
            "   [False]\n",
            "   ...\n",
            "   [False]\n",
            "   [False]\n",
            "   [False]]\n",
            "\n",
            "  [[False]\n",
            "   [False]\n",
            "   [False]\n",
            "   ...\n",
            "   [False]\n",
            "   [False]\n",
            "   [False]]]\n",
            "\n",
            "\n",
            " [[[False]\n",
            "   [False]\n",
            "   [False]\n",
            "   ...\n",
            "   [False]\n",
            "   [False]\n",
            "   [False]]\n",
            "\n",
            "  [[False]\n",
            "   [False]\n",
            "   [False]\n",
            "   ...\n",
            "   [False]\n",
            "   [False]\n",
            "   [False]]\n",
            "\n",
            "  [[False]\n",
            "   [False]\n",
            "   [False]\n",
            "   ...\n",
            "   [False]\n",
            "   [False]\n",
            "   [False]]\n",
            "\n",
            "  ...\n",
            "\n",
            "  [[False]\n",
            "   [False]\n",
            "   [False]\n",
            "   ...\n",
            "   [False]\n",
            "   [False]\n",
            "   [False]]\n",
            "\n",
            "  [[False]\n",
            "   [False]\n",
            "   [False]\n",
            "   ...\n",
            "   [False]\n",
            "   [False]\n",
            "   [False]]\n",
            "\n",
            "  [[False]\n",
            "   [False]\n",
            "   [False]\n",
            "   ...\n",
            "   [False]\n",
            "   [False]\n",
            "   [False]]]]\n",
            "CPU times: user 1.6 s, sys: 47.5 ms, total: 1.65 s\n",
            "Wall time: 1.74 s\n"
          ],
          "name": "stdout"
        }
      ]
    },
    {
      "cell_type": "code",
      "metadata": {
        "id": "nTxtuZ_J_bhH",
        "colab": {
          "base_uri": "https://localhost:8080/"
        },
        "outputId": "30d04738-5488-480b-dfc6-71a840745082"
      },
      "source": [
        "\n",
        "#IOU\n",
        "y_pred=model.predict(X_test)\n",
        "y_pred_thresholded = y_pred > 0.5\n",
        "\n",
        "intersection = np.logical_and(y_test, y_pred_thresholded)\n",
        "union = np.logical_or(y_test, y_pred_thresholded)\n",
        "iou_score = np.sum(intersection) / np.sum(union)\n",
        "print(\"IoU score is: \", iou_score)\n"
      ],
      "execution_count": null,
      "outputs": [
        {
          "output_type": "stream",
          "text": [
            "IoU score is:  0.49701432685647623\n"
          ],
          "name": "stdout"
        }
      ]
    },
    {
      "cell_type": "code",
      "metadata": {
        "id": "coF8RI_T_mOJ",
        "colab": {
          "base_uri": "https://localhost:8080/",
          "height": 262
        },
        "outputId": "da7e5ba2-ba77-424c-d705-e120a0a93c90"
      },
      "source": [
        "test_img_number = np.random.randint(0, len(X_test))\n",
        "test_img = X_test[test_img_number]\n",
        "ground_truth=y_test[test_img_number]\n",
        "# test_img_norm=test_img[:,:,0][:,:,None]\n",
        "test_img_input=np.expand_dims(test_img, 0)\n",
        "prediction = model.predict(test_img_input)\n",
        "prediction=prediction[0,:,:,0]\n",
        "plt.figure(figsize=(16, 8))\n",
        "plt.subplot(231)\n",
        "plt.title('Testing Image')\n",
        "plt.imshow(test_img[:,:,0], cmap='gray')\n",
        "plt.subplot(232)\n",
        "plt.title('Testing Label')\n",
        "plt.imshow(ground_truth[:,:,0], cmap='gray')\n",
        "plt.subplot(233)\n",
        "plt.title('Prediction on test image')\n",
        "plt.imshow(prediction, cmap='gray')\n",
        "\n",
        "plt.show()"
      ],
      "execution_count": null,
      "outputs": [
        {
          "output_type": "display_data",
          "data": {
            "image/png": "[encoded data removed]",
            "text/plain": [
              "<Figure size 1152x576 with 3 Axes>"
            ]
          },
          "metadata": {
            "tags": [],
            "needs_background": "light"
          }
        }
      ]
    },
    {
      "cell_type": "markdown",
      "metadata": {
        "id": "kkmNXAvN__88"
      },
      "source": [
        "# plotting some results of the prediction"
      ]
    },
    {
      "cell_type": "code",
      "metadata": {
        "id": "7dMwkYSG_mLa",
        "colab": {
          "base_uri": "https://localhost:8080/",
          "height": 230
        },
        "outputId": "7acff582-7b53-458b-b942-8224221e999b"
      },
      "source": [
        "r=random.randint(0,len(X_test)-1)\n",
        "fig=plt.figure()\n",
        "fig.subplots_adjust(left=0.1, right=0.9, bottom=0.1, top=0.9)\n",
        "ax=fig.add_subplot(2,2,1)\n",
        "ax=plt.imshow(np.reshape(y_pred[r]*255,(256,256)),cmap=\"gray\")\n",
        "ax=fig.add_subplot(2,2,2)\n",
        "ax.imshow(np.reshape(y_test[r]*255,(256,256)),cmap=\"gray\")"
      ],
      "execution_count": null,
      "outputs": [
        {
          "output_type": "error",
          "ename": "NameError",
          "evalue": "ignored",
          "traceback": [
            "\u001b[0;31m---------------------------------------------------------------------------\u001b[0m",
            "\u001b[0;31mNameError\u001b[0m                                 Traceback (most recent call last)",
            "\u001b[0;32m<ipython-input-57-bdfef0e84faa>\u001b[0m in \u001b[0;36m<module>\u001b[0;34m()\u001b[0m\n\u001b[0;32m----> 1\u001b[0;31m \u001b[0mr\u001b[0m\u001b[0;34m=\u001b[0m\u001b[0mrandom\u001b[0m\u001b[0;34m.\u001b[0m\u001b[0mrandint\u001b[0m\u001b[0;34m(\u001b[0m\u001b[0;36m0\u001b[0m\u001b[0;34m,\u001b[0m\u001b[0mlen\u001b[0m\u001b[0;34m(\u001b[0m\u001b[0mX_test\u001b[0m\u001b[0;34m)\u001b[0m\u001b[0;34m-\u001b[0m\u001b[0;36m1\u001b[0m\u001b[0;34m)\u001b[0m\u001b[0;34m\u001b[0m\u001b[0;34m\u001b[0m\u001b[0m\n\u001b[0m\u001b[1;32m      2\u001b[0m \u001b[0mfig\u001b[0m\u001b[0;34m=\u001b[0m\u001b[0mplt\u001b[0m\u001b[0;34m.\u001b[0m\u001b[0mfigure\u001b[0m\u001b[0;34m(\u001b[0m\u001b[0;34m)\u001b[0m\u001b[0;34m\u001b[0m\u001b[0;34m\u001b[0m\u001b[0m\n\u001b[1;32m      3\u001b[0m \u001b[0mfig\u001b[0m\u001b[0;34m.\u001b[0m\u001b[0msubplots_adjust\u001b[0m\u001b[0;34m(\u001b[0m\u001b[0mleft\u001b[0m\u001b[0;34m=\u001b[0m\u001b[0;36m0.1\u001b[0m\u001b[0;34m,\u001b[0m \u001b[0mright\u001b[0m\u001b[0;34m=\u001b[0m\u001b[0;36m0.9\u001b[0m\u001b[0;34m,\u001b[0m \u001b[0mbottom\u001b[0m\u001b[0;34m=\u001b[0m\u001b[0;36m0.1\u001b[0m\u001b[0;34m,\u001b[0m \u001b[0mtop\u001b[0m\u001b[0;34m=\u001b[0m\u001b[0;36m0.9\u001b[0m\u001b[0;34m)\u001b[0m\u001b[0;34m\u001b[0m\u001b[0;34m\u001b[0m\u001b[0m\n\u001b[1;32m      4\u001b[0m \u001b[0max\u001b[0m\u001b[0;34m=\u001b[0m\u001b[0mfig\u001b[0m\u001b[0;34m.\u001b[0m\u001b[0madd_subplot\u001b[0m\u001b[0;34m(\u001b[0m\u001b[0;36m2\u001b[0m\u001b[0;34m,\u001b[0m\u001b[0;36m2\u001b[0m\u001b[0;34m,\u001b[0m\u001b[0;36m1\u001b[0m\u001b[0;34m)\u001b[0m\u001b[0;34m\u001b[0m\u001b[0;34m\u001b[0m\u001b[0m\n\u001b[1;32m      5\u001b[0m \u001b[0max\u001b[0m\u001b[0;34m=\u001b[0m\u001b[0mplt\u001b[0m\u001b[0;34m.\u001b[0m\u001b[0mimshow\u001b[0m\u001b[0;34m(\u001b[0m\u001b[0mnp\u001b[0m\u001b[0;34m.\u001b[0m\u001b[0mreshape\u001b[0m\u001b[0;34m(\u001b[0m\u001b[0my_pred\u001b[0m\u001b[0;34m[\u001b[0m\u001b[0mr\u001b[0m\u001b[0;34m]\u001b[0m\u001b[0;34m*\u001b[0m\u001b[0;36m255\u001b[0m\u001b[0;34m,\u001b[0m\u001b[0;34m(\u001b[0m\u001b[0;36m256\u001b[0m\u001b[0;34m,\u001b[0m\u001b[0;36m256\u001b[0m\u001b[0;34m)\u001b[0m\u001b[0;34m)\u001b[0m\u001b[0;34m,\u001b[0m\u001b[0mcmap\u001b[0m\u001b[0;34m=\u001b[0m\u001b[0;34m\"gray\"\u001b[0m\u001b[0;34m)\u001b[0m\u001b[0;34m\u001b[0m\u001b[0;34m\u001b[0m\u001b[0m\n",
            "\u001b[0;31mNameError\u001b[0m: name 'random' is not defined"
          ]
        }
      ]
    },
    {
      "cell_type": "markdown",
      "metadata": {
        "id": "A82OT7C8Aiu3"
      },
      "source": [
        "#Saving the Model"
      ]
    },
    {
      "cell_type": "code",
      "metadata": {
        "id": "wMAk64G9_lp0"
      },
      "source": [
        ""
      ],
      "execution_count": null,
      "outputs": []
    },
    {
      "cell_type": "code",
      "metadata": {
        "id": "zxhpiJ6KAnK6"
      },
      "source": [
        ""
      ],
      "execution_count": null,
      "outputs": []
    },
    {
      "cell_type": "code",
      "metadata": {
        "id": "gN2OoZ5rAnDv"
      },
      "source": [
        ""
      ],
      "execution_count": null,
      "outputs": []
    }
  ]
}